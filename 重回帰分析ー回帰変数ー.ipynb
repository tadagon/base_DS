{
 "cells": [
  {
   "cell_type": "code",
   "execution_count": null,
   "id": "78a88452",
   "metadata": {},
   "outputs": [],
   "source": [
    "import matplotlib.pyplot as plt\n",
    "import numpy as np\n",
    "import pandas as pd\n",
    "import plotly.express as px\n",
    "import plotly.graph_objects as go\n",
    "import seaborn as sns\n",
    "from plotly.offline import init_notebook_mode\n",
    "from statsmodels.stats.outliers_influence import variance_inflation_factor\n",
    "from sklearn import linear_model\n",
    "from sklearn.linear_model import LogisticRegression"
   ]
  },
  {
   "cell_type": "code",
   "execution_count": null,
   "id": "a24812e2",
   "metadata": {},
   "outputs": [],
   "source": [
    "df = pd.read_csv(\"./XXXX.csv\")\n",
    "df.head()"
   ]
  },
  {
   "cell_type": "code",
   "execution_count": null,
   "id": "3184e410",
   "metadata": {},
   "outputs": [],
   "source": [
    "df.isnull().sum()"
   ]
  },
  {
   "cell_type": "code",
   "execution_count": null,
   "id": "0f08ef43",
   "metadata": {},
   "outputs": [],
   "source": [
    "df.mean()"
   ]
  },
  {
   "cell_type": "code",
   "execution_count": null,
   "id": "f781a3a6",
   "metadata": {},
   "outputs": [],
   "source": [
    "df.median()"
   ]
  },
  {
   "cell_type": "code",
   "execution_count": null,
   "id": "f95146e7",
   "metadata": {},
   "outputs": [],
   "source": [
    "df.corr()[\"AAAA\"]"
   ]
  },
  {
   "cell_type": "code",
   "execution_count": null,
   "id": "23ee743a",
   "metadata": {},
   "outputs": [],
   "source": [
    "df.columns"
   ]
  },
  {
   "cell_type": "code",
   "execution_count": null,
   "id": "46f49a53",
   "metadata": {},
   "outputs": [],
   "source": []
  },
  {
   "cell_type": "code",
   "execution_count": null,
   "id": "b2c247d1",
   "metadata": {},
   "outputs": [],
   "source": []
  },
  {
   "cell_type": "code",
   "execution_count": null,
   "id": "7c97d583",
   "metadata": {},
   "outputs": [],
   "source": [
    "data_x=pd.concat([org_type_dummy,df_treated],axis=1)\n",
    "data_x=data_x.drop([\n",
    "    ,,\n",
    "],\n",
    "            axis=1)\n",
    "data_x\n",
    "\n",
    "vif = pd.DataFrame()\n",
    "vif[\"VIF Factor\"] = [variance_inflation_factor(data_x.values, i) for i in range(data_x.shape[1])]\n",
    "vif[\"features\"] = data_x.columns\n",
    " \n",
    "#vifを計算結果を出力する\n",
    "print(vif)\n",
    " \n",
    "#vifをグラフ化する\n",
    "plt.plot(vif[\"VIF Factor\"])"
   ]
  },
  {
   "cell_type": "code",
   "execution_count": null,
   "id": "d7a8d23f",
   "metadata": {},
   "outputs": [],
   "source": [
    "clf = linear_model.LinearRegression()\n",
    "clf.fit(np.array(data_x),np.array(data_y[\"BBB\"]))\n",
    "coefs = pd.DataFrame(clf.coef_, index=data_x.columns).sort_values(0, ascending=False)\n",
    "coefs "
   ]
  }
 ],
 "metadata": {
  "kernelspec": {
   "display_name": "Python 3",
   "language": "python",
   "name": "python3"
  },
  "language_info": {
   "codemirror_mode": {
    "name": "ipython",
    "version": 3
   },
   "file_extension": ".py",
   "mimetype": "text/x-python",
   "name": "python",
   "nbconvert_exporter": "python",
   "pygments_lexer": "ipython3",
   "version": "3.8.8"
  }
 },
 "nbformat": 4,
 "nbformat_minor": 5
}
